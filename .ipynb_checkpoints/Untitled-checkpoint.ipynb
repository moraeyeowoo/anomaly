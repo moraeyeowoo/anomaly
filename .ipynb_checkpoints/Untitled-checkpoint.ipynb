{
 "cells": [
  {
   "cell_type": "code",
   "execution_count": 1,
   "metadata": {},
   "outputs": [],
   "source": [
    "from DeviceFingerprint.models import *"
   ]
  },
  {
   "cell_type": "code",
   "execution_count": 2,
   "metadata": {},
   "outputs": [],
   "source": [
    "from Analyze.classification import *"
   ]
  },
  {
   "cell_type": "code",
   "execution_count": 3,
   "metadata": {},
   "outputs": [],
   "source": [
    "import os"
   ]
  },
  {
   "cell_type": "code",
   "execution_count": 4,
   "metadata": {},
   "outputs": [
    {
     "data": {
      "text/plain": [
       "DeviceFingerprint.models.Device"
      ]
     },
     "execution_count": 4,
     "metadata": {},
     "output_type": "execute_result"
    }
   ],
   "source": [
    "Device"
   ]
  },
  {
   "cell_type": "code",
   "execution_count": 6,
   "metadata": {},
   "outputs": [],
   "source": [
    "from DeviceFingerprint.serializers import  *"
   ]
  },
  {
   "cell_type": "code",
   "execution_count": 7,
   "metadata": {},
   "outputs": [
    {
     "data": {
      "text/plain": [
       "['sensor_capture1.pcap',\n",
       " 'capure16.pcap',\n",
       " 'capture4.pcap',\n",
       " 'capture20.pcap',\n",
       " 'capture18.pcap',\n",
       " 'sensor_capture4.pcap',\n",
       " 'sensor_capture5.pcap',\n",
       " 'cature21.pcap',\n",
       " 'capture12.pcap',\n",
       " 'capature23.pcap',\n",
       " 'capture13.pcap',\n",
       " 'sensor_capture3.pcap',\n",
       " 'capture7.pcap',\n",
       " 'capture19.pcap',\n",
       " 'sensor_capture7.pcap',\n",
       " 'capture3.pcap',\n",
       " 'capture21.pcap',\n",
       " 'capture15.pcap',\n",
       " 'capture10.pcap',\n",
       " 'capture2.pcap',\n",
       " 'capture9.pcap',\n",
       " 'sensor_capture8.pcap',\n",
       " 'sensor_capture2.pcap',\n",
       " 'sensor_capture6.pcap',\n",
       " 'capture14.pcap',\n",
       " 'capture17.pcap',\n",
       " 'capture6.pcap',\n",
       " 'caputure11.pcap',\n",
       " 'capture22.pcap']"
      ]
     },
     "execution_count": 7,
     "metadata": {},
     "output_type": "execute_result"
    }
   ],
   "source": [
    "os.listdir(\"./data/train\")"
   ]
  },
  {
   "cell_type": "code",
   "execution_count": 9,
   "metadata": {},
   "outputs": [
    {
     "name": "stderr",
     "output_type": "stream",
     "text": [
      "/home/anymedi/anaconda3/envs/django-env/lib/python3.8/site-packages/scapy/layers/tls/keyexchange.py:619: CryptographyDeprecationWarning: Support for unsafe construction of public numbers from encoded data will be removed in a future version. Please use EllipticCurvePublicKey.from_encoded_point\n",
      "  pubnum = import_point(curve, self.point)\n"
     ]
    }
   ],
   "source": [
    "pcap_packet_list = get_pcap_packets_from_directory(\"./data/train\")"
   ]
  },
  {
   "cell_type": "code",
   "execution_count": 10,
   "metadata": {},
   "outputs": [
    {
     "data": {
      "text/plain": [
       "[<sensor_capture1.pcap: TCP:67517 UDP:4386 ICMP:2 Other:543>,\n",
       " <capure16.pcap: TCP:1271 UDP:2699 ICMP:160 Other:482>,\n",
       " <capture4.pcap: TCP:9300 UDP:4735 ICMP:181 Other:520>,\n",
       " <capture20.pcap: TCP:1118 UDP:2864 ICMP:179 Other:318>,\n",
       " <capture18.pcap: TCP:2002 UDP:4762 ICMP:260 Other:514>,\n",
       " <sensor_capture4.pcap: TCP:1572 UDP:9870 ICMP:61 Other:583>,\n",
       " <sensor_capture5.pcap: TCP:1691 UDP:6975 ICMP:140 Other:818>,\n",
       " <cature21.pcap: TCP:767 UDP:1953 ICMP:100 Other:218>,\n",
       " <capture12.pcap: TCP:315 UDP:2860 ICMP:120 Other:262>,\n",
       " <capature23.pcap: TCP:783 UDP:1959 ICMP:100 Other:418>,\n",
       " <capture13.pcap: TCP:345 UDP:3402 ICMP:120 Other:328>,\n",
       " <sensor_capture3.pcap: TCP:10851 UDP:6516 ICMP:9 Other:577>,\n",
       " <capture7.pcap: TCP:12916 UDP:3074 ICMP:121 Other:318>,\n",
       " <capture19.pcap: TCP:1353 UDP:3480 ICMP:190 Other:380>,\n",
       " <sensor_capture7.pcap: TCP:1424 UDP:6097 ICMP:238 Other:814>,\n",
       " <capture3.pcap: TCP:9206 UDP:3476 ICMP:120 Other:382>,\n",
       " <capture21.pcap: TCP:1798 UDP:4405 ICMP:247 Other:438>,\n",
       " <capture15.pcap: TCP:1086 UDP:1970 ICMP:100 Other:254>,\n",
       " <capture10.pcap: TCP:478 UDP:4332 ICMP:162 Other:404>,\n",
       " <capture2.pcap: TCP:28712 UDP:3898 ICMP:203 Other:608>,\n",
       " <capture9.pcap: TCP:604 UDP:6819 ICMP:162 Other:585>,\n",
       " <sensor_capture8.pcap: TCP:1130 UDP:4182 ICMP:120 Other:578>,\n",
       " <sensor_capture2.pcap: TCP:41800 UDP:4400 ICMP:1 Other:629>,\n",
       " <sensor_capture6.pcap: TCP:1307 UDP:5435 ICMP:118 Other:613>,\n",
       " <capture14.pcap: TCP:394 UDP:3489 ICMP:140 Other:308>,\n",
       " <capture17.pcap: TCP:774 UDP:1945 ICMP:120 Other:200>,\n",
       " <capture6.pcap: TCP:2956 UDP:4342 ICMP:121 Other:605>,\n",
       " <caputure11.pcap: TCP:415 UDP:3446 ICMP:121 Other:296>,\n",
       " <capture22.pcap: TCP:793 UDP:1952 ICMP:120 Other:202>]"
      ]
     },
     "execution_count": 10,
     "metadata": {},
     "output_type": "execute_result"
    }
   ],
   "source": [
    "pcap_packet_list"
   ]
  },
  {
   "cell_type": "code",
   "execution_count": null,
   "metadata": {},
   "outputs": [],
   "source": [
    "dlink1 = \"b0:c5:54:25:1f:b6\"\n",
    "edimax1 = \"80:1f:02:d6:d5:5d\"\n",
    "sensor = \"c4:12:f5:1c:8c:f1\"\n",
    "xiaomi = \"78:11:dc:11:72:af\""
   ]
  }
 ],
 "metadata": {
  "kernelspec": {
   "display_name": "Django Shell-Plus",
   "language": "python",
   "name": "django_extensions"
  },
  "language_info": {
   "codemirror_mode": {
    "name": "ipython",
    "version": 3
   },
   "file_extension": ".py",
   "mimetype": "text/x-python",
   "name": "python",
   "nbconvert_exporter": "python",
   "pygments_lexer": "ipython3",
   "version": "3.8.3"
  }
 },
 "nbformat": 4,
 "nbformat_minor": 4
}
